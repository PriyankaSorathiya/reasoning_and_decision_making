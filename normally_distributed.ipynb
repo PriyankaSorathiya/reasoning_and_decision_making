{
 "cells": [
  {
   "cell_type": "code",
   "execution_count": 1,
   "id": "82add361-932c-4de8-9c30-75e110452ba1",
   "metadata": {},
   "outputs": [],
   "source": [
    "import random\n",
    "import math\n",
    "\n",
    "def generate_normal_numbers(size):\n",
    "    \"\"\"This implementation generates random numbers following a standard normal distribution (mean 0 and standard deviation 1.0) using the Box-Muller transform method\"\"\"\n",
    "    \"\"\"The Box–Muller transform, by George Edward Pelham Box and Mervin Edgar Muller, is a random number sampling method for generating pairs of independent, standard, normally distributed (zero expectation, unit variance) random numbers, given a source of uniformly distributed random numbers.\"\"\"\n",
    "    normal_numbers = []\n",
    "    for _ in range(size):\n",
    "        \"\"\"uniformly distributed random numbers u1 and u2\"\"\"\n",
    "        u1 = random.random()\n",
    "        u2 = random.random()\n",
    "        z = math.sqrt(-2 * math.log(u1)) * math.cos(2 * math.pi * u2)\n",
    "        normal_numbers.append(z)\n",
    "    return normal_numbers\n",
    "\n",
    "# Example usage:\n",
    "random_numbers = generate_normal_numbers(10)"
   ]
  },
  {
   "cell_type": "code",
   "execution_count": 2,
   "id": "81b391c5-c163-4d02-ad0b-2f5a6fdd8b67",
   "metadata": {},
   "outputs": [],
   "source": [
    "def sample_mean(data):\n",
    "    return sum(data) / len(data)\n",
    "\n",
    "def sample_variance(data):\n",
    "    mean = sample_mean(data)\n",
    "    return sum((x - mean) ** 2 for x in data) / (len(data) - 1)\n",
    "\n",
    "def sample_std(data):\n",
    "    return sample_variance(data) ** 0.5"
   ]
  },
  {
   "cell_type": "code",
   "execution_count": 3,
   "id": "3780372b-ac68-4f29-bc3a-0c2770f40d81",
   "metadata": {},
   "outputs": [
    {
     "name": "stdout",
     "output_type": "stream",
     "text": [
      "Sample Mean: -0.11600034155213867\n",
      "Sample Standard Deviation: 0.6379756807164019\n"
     ]
    }
   ],
   "source": [
    "mean = sample_mean(random_numbers)\n",
    "std_dev = sample_std(random_numbers)\n",
    "\n",
    "print(\"Sample Mean:\", mean)\n",
    "print(\"Sample Standard Deviation:\", std_dev)"
   ]
  },
  {
   "cell_type": "code",
   "execution_count": 4,
   "id": "e4e5d52b-2545-452d-b1e8-1a1bed47f1fd",
   "metadata": {},
   "outputs": [
    {
     "data": {
      "text/plain": [
       "'\\nWhat happens if the size of the sample set changes?\\n1)As the sample size increases, the accuracy of parameter estimates generally improves.\\n2)A larger sample size results in the sample mean and sample standard deviation approaching the true population mean and standard deviation more closely.\\n3)Conversely, a smaller sample size increases the likelihood of sampling variability, which in turn leads to less precise parameter estimates.\\n'"
      ]
     },
     "execution_count": 4,
     "metadata": {},
     "output_type": "execute_result"
    }
   ],
   "source": [
    "\"\"\"\n",
    "What happens if the size of the sample set changes?\n",
    "1)As the sample size increases, the accuracy of parameter estimates generally improves.\n",
    "2)A larger sample size results in the sample mean and sample standard deviation approaching the true population mean and standard deviation more closely.\n",
    "3)Conversely, a smaller sample size increases the likelihood of sampling variability, which in turn leads to less precise parameter estimates.\n",
    "\"\"\""
   ]
  }
 ],
 "metadata": {
  "kernelspec": {
   "display_name": "Python 3.10.5 64-bit",
   "language": "python",
   "name": "python3"
  },
  "language_info": {
   "codemirror_mode": {
    "name": "ipython",
    "version": 3
   },
   "file_extension": ".py",
   "mimetype": "text/x-python",
   "name": "python",
   "nbconvert_exporter": "python",
   "pygments_lexer": "ipython3",
   "version": "3.10.5"
  },
  "vscode": {
   "interpreter": {
    "hash": "a9cff5a362bc38ef45d817ae74b1af54d6a076e3d773891282bce078b815ba34"
   }
  }
 },
 "nbformat": 4,
 "nbformat_minor": 5
}
